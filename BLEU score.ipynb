{
 "cells": [
  {
   "cell_type": "code",
   "execution_count": 1,
   "id": "f1ec2ac5",
   "metadata": {},
   "outputs": [
    {
     "name": "stdout",
     "output_type": "stream",
     "text": [
      "Requirement already satisfied: nltk in c:\\users\\jhagan\\appdata\\local\\programs\\python\\python38\\lib\\site-packages (3.7)\n",
      "Requirement already satisfied: tqdm in c:\\users\\jhagan\\appdata\\local\\programs\\python\\python38\\lib\\site-packages (from nltk) (4.63.0)\n",
      "Requirement already satisfied: click in c:\\users\\jhagan\\appdata\\local\\programs\\python\\python38\\lib\\site-packages (from nltk) (8.0.4)\n",
      "Requirement already satisfied: joblib in c:\\users\\jhagan\\appdata\\local\\programs\\python\\python38\\lib\\site-packages (from nltk) (1.1.0)\n",
      "Requirement already satisfied: regex>=2021.8.3 in c:\\users\\jhagan\\appdata\\local\\programs\\python\\python38\\lib\\site-packages (from nltk) (2022.3.15)\n",
      "Requirement already satisfied: colorama in c:\\users\\jhagan\\appdata\\local\\programs\\python\\python38\\lib\\site-packages (from click->nltk) (0.4.6)\n",
      "Note: you may need to restart the kernel to use updated packages.\n"
     ]
    },
    {
     "name": "stderr",
     "output_type": "stream",
     "text": [
      "WARNING: You are using pip version 22.0.4; however, version 23.0.1 is available.\n",
      "You should consider upgrading via the 'c:\\users\\jhagan\\appdata\\local\\programs\\python\\python38\\python.exe -m pip install --upgrade pip' command.\n"
     ]
    }
   ],
   "source": [
    "pip install nltk"
   ]
  },
  {
   "cell_type": "code",
   "execution_count": 2,
   "id": "b092555d",
   "metadata": {},
   "outputs": [
    {
     "name": "stdout",
     "output_type": "stream",
     "text": [
      "BLEU score: 0.30356276286081807\n"
     ]
    }
   ],
   "source": [
    "import nltk\n",
    "from nltk.translate.bleu_score import sentence_bleu\n",
    "\n",
    "# Define the reference paragraphs\n",
    "reference_paragraphs = [\"A snowy montainous region that has train tracks and many trees. The train tracks lead to a isolated brown building in the middle of the trees. A room with people seated and white curtains. A woman in pink dress looking sad next to two blondes. The face of a man with a white background. A woman wearing a colorful beanie and wearing jewelry looking sad with the white curtain as the background. A wooden clock with a white bird indicating the hour is up. Two men one of whom is standing while the other is lying down are surrounded by many wooden clocks. People are walking in circles in the snow while the sun is shining. A person in white shirt wearing a black mask and in the background is an old person with a large white beard and many ancient paintings of famous people. A blonde haired person surrounded by many stuffed animals in a small room. A man pushing another person on a chair in a room with other people working and a large wooden table. A monkey and a woman's legs are seen and they are surrounded with ornaments and cuttlery made of glass. A woman is standing and behind her is a collection of butterflies framed. A person with a purple cap is staring at a TV screen that doesn't display anything. A person is putting on their sunglasses while another is spraying water. A white woman with short hair and glasses seems to be in a serious mood. A man sharing his food with the monkey in a candle lit room. Two people with their faces turned away. A black screen with text.\", \n",
    "                        \"A snowy mountain can be seen. A building can be seen through the snow. A man can be seen sitting inside the building. Some children seem to be standing. A man who seems to be wearing a white shirt can be seen speaking. A girl in a dress is standing inside the building. A bird comes out of the clock. A boy stands in front of a boy. Men in black jacket are walking. A man with a white shirt is standing inside the building. A man with a green dress is seen inside a closet. A man and a woman are near the table, there are other people there. A woman is standing in front of a display. A woman is standing in front of the chimney. A woman with a pink head gear standing in front of a television. A man with a black sweater is standing in front of the shower. A woman is standing inside the building. A monkey sits upon the man for food. a woman wearing white clothes is near a person wearing red clothes. A black screen with text.\",\n",
    "                       \"An individual is traversing a snow-covered peak, whilst a massive ivory truck is plowing through the powdery terrain. At the facade of a structure, a male donning a cobalt shirt is stationary, and a separate gentleman, garbed in a white shirt, is cradling an infant. A male dressed in blue attire is clutching a microphone, and a juvenile female, attired in a frock, is positioned before a colossal edifice. A male in a black shirt is motionless in front of an alternate building, whilst another gentleman in blue is stationed before a vast assemblage of people. A male sporting a black jacket is ambling down a thoroughfare, and a male sporting a white shirt and hat is situated at the front of a building. A male in a green shirt is positioned before a large throng, and a male and female are seated at a table. Meanwhile, a woman is situated in front of a vast exhibit in a store, and another woman, clad in a dress, is standing before an immense structure. In a capacious room, a woman adorned in pink is standing, and a male in a black shirt is stationed before a white building. A juvenile male is clutching an infant, and a male in a white shirt is stationed before a crowd. Furthermore, a male in a scarlet shirt is clutching a microphone, and a male in a sable shirt is motionless before another large assemblage of individuals.\"]\n",
    "\n",
    "# Define the generated paragraph\n",
    "generated_paragraph =\"A person is walking down a snowy mountain. A large white truck is driving through the snow. A man in a blue shirt is standing in front of a building. A man in a white shirt is holding a baby. A man in a blue shirt is holding a microphone. A young girl in a dress is standing in front of a large building. A man in a black shirt is standing in front of a different building. A man in a blue shirt is standing in front of a large crowd. A man in a black jacket is walking down a street. A man in a white shirt and a white hat is standing in front of another building. A man in a green shirt is standing in front of another large crowd. A man and a woman are sitting on a table. A woman is standing in front of a display in a large store. A woman in a dress is standing in front of yet another large building. A woman in a pink dress is standing in front of a large room. A man in a black shirt is standing in front of a white building. A young boy is holding hands with a baby. A man in a white shirt is standing in front of a different crowd. A man in a red shirt is holding a microphone. A man in a black shirt is standing in front of yet another large crowd.\"\n",
    "\n",
    "# Tokenize the reference and generated paragraphs\n",
    "tokenized_reference_paragraphs = [sentence.split() for sentence in reference_paragraphs]\n",
    "tokenized_reference_tuples = [tuple(tokens) for tokens in tokenized_reference_paragraphs]\n",
    "tokenized_generated_paragraph = generated_paragraph.split()\n",
    "\n",
    "# Calculate the BLEU score\n",
    "bleu_score = sentence_bleu(tokenized_reference_tuples, tokenized_generated_paragraph)\n",
    "\n",
    "# Print the BLEU score\n",
    "print(\"BLEU score:\", bleu_score)"
   ]
  },
  {
   "cell_type": "code",
   "execution_count": null,
   "id": "90692907",
   "metadata": {},
   "outputs": [],
   "source": []
  },
  {
   "cell_type": "code",
   "execution_count": null,
   "id": "1b2be1b1",
   "metadata": {},
   "outputs": [],
   "source": []
  },
  {
   "cell_type": "code",
   "execution_count": null,
   "id": "5cace686",
   "metadata": {},
   "outputs": [],
   "source": []
  }
 ],
 "metadata": {
  "kernelspec": {
   "display_name": "Python 3 (ipykernel)",
   "language": "python",
   "name": "python3"
  },
  "language_info": {
   "codemirror_mode": {
    "name": "ipython",
    "version": 3
   },
   "file_extension": ".py",
   "mimetype": "text/x-python",
   "name": "python",
   "nbconvert_exporter": "python",
   "pygments_lexer": "ipython3",
   "version": "3.8.5"
  }
 },
 "nbformat": 4,
 "nbformat_minor": 5
}
