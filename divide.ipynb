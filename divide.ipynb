{
 "cells": [
  {
   "cell_type": "code",
   "execution_count": 22,
   "id": "be519cee",
   "metadata": {},
   "outputs": [],
   "source": [
    "file1 = open(r\"E:\\J_tarp\\Dataset\\Flickr30k_text\\captions.txt\", 'r', encoding=\"utf8\")\n",
    "Lines = file1.readlines()\n",
    "\n",
    "file2 = open(r\"E:\\J_tarp\\Dataset\\Flickr30k_text\\Flickr30k.token.txt\", 'w')\n",
    "\n",
    "for line in Lines:\n",
    "    x = line.split(\",\")\n",
    "    y = x[0]+\"#\"+x[1]+\"\\t\"+x[2]\n",
    "    file2.write(y)"
   ]
  },
  {
   "cell_type": "code",
   "execution_count": 23,
   "id": "4fce749f",
   "metadata": {},
   "outputs": [],
   "source": [
    "file1.close()\n",
    "file2.close()"
   ]
  },
  {
   "cell_type": "code",
   "execution_count": 6,
   "id": "347c2b97",
   "metadata": {},
   "outputs": [],
   "source": [
    "import random"
   ]
  },
  {
   "cell_type": "code",
   "execution_count": 17,
   "id": "3f23f02a",
   "metadata": {},
   "outputs": [],
   "source": [
    "count = 0\n",
    "file3 = open(r\"E:\\J_tarp\\Dataset\\Flicker30k_text\\Flickr_30k.trainImages.txt\", 'w')\n",
    "file4 = open(r\"E:\\J_tarp\\Dataset\\Flicker30k_text\\Flickr_30k.testImages.txt\", 'w')\n",
    "for line in Lines:\n",
    "    x = line.split(\",\")\n",
    "    y = x[0]+\"\\n\"\n",
    "    if(count%5==0):\n",
    "        if(random.random()<0.8):\n",
    "            file3.write(y)\n",
    "        else:\n",
    "            file4.write(y)\n",
    "    count+=1"
   ]
  },
  {
   "cell_type": "code",
   "execution_count": 18,
   "id": "bafe7ed9",
   "metadata": {},
   "outputs": [],
   "source": [
    "file3.close()\n",
    "file4.close()"
   ]
  },
  {
   "cell_type": "code",
   "execution_count": null,
   "id": "23297906",
   "metadata": {},
   "outputs": [],
   "source": []
  }
 ],
 "metadata": {
  "kernelspec": {
   "display_name": "Python 3 (ipykernel)",
   "language": "python",
   "name": "python3"
  },
  "language_info": {
   "codemirror_mode": {
    "name": "ipython",
    "version": 3
   },
   "file_extension": ".py",
   "mimetype": "text/x-python",
   "name": "python",
   "nbconvert_exporter": "python",
   "pygments_lexer": "ipython3",
   "version": "3.8.5"
  }
 },
 "nbformat": 4,
 "nbformat_minor": 5
}
