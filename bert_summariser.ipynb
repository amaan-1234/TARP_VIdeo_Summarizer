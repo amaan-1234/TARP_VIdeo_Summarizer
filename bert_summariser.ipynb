{
 "cells": [
  {
   "cell_type": "code",
   "execution_count": 1,
   "id": "311a3ccb",
   "metadata": {},
   "outputs": [],
   "source": [
    "import os\n",
    "import glob\n",
    "#import tensorflow as tf"
   ]
  },
  {
   "cell_type": "code",
   "execution_count": 2,
   "id": "c5c79b6b",
   "metadata": {},
   "outputs": [],
   "source": [
    "def load_image(image_path):\n",
    "    img = tf.io.read_file(image_path)\n",
    "    img = tf.io.decode_jpeg(img, channels=3)\n",
    "    img = tf.image.resize(img, IMAGE_SHAPE[:-1])\n",
    "    return img"
   ]
  },
  {
   "cell_type": "code",
   "execution_count": null,
   "id": "442021d7",
   "metadata": {},
   "outputs": [],
   "source": []
  },
  {
   "cell_type": "code",
   "execution_count": 23,
   "id": "f1be7dc2",
   "metadata": {},
   "outputs": [],
   "source": [
    "img_names = os.listdir(r\"E:\\J_tarp\\Frames\")\n",
    "img_names  = sorted(img_names, key=lambda x: int(x.split('_')[1].split('.')[0]))"
   ]
  },
  {
   "cell_type": "code",
   "execution_count": 8,
   "id": "c78ab41a",
   "metadata": {},
   "outputs": [],
   "source": [
    "text = \"\""
   ]
  },
  {
   "cell_type": "code",
   "execution_count": 24,
   "id": "1ccfcd0b",
   "metadata": {},
   "outputs": [
    {
     "name": "stdout",
     "output_type": "stream",
     "text": [
      "E:\\J_tarp\\Frames\\frame_85.jpg\n",
      "E:\\J_tarp\\Frames\\frame_132.jpg\n",
      "E:\\J_tarp\\Frames\\frame_191.jpg\n",
      "E:\\J_tarp\\Frames\\frame_249.jpg\n",
      "E:\\J_tarp\\Frames\\frame_313.jpg\n",
      "E:\\J_tarp\\Frames\\frame_376.jpg\n",
      "E:\\J_tarp\\Frames\\frame_428.jpg\n",
      "E:\\J_tarp\\Frames\\frame_485.jpg\n",
      "E:\\J_tarp\\Frames\\frame_531.jpg\n",
      "E:\\J_tarp\\Frames\\frame_592.jpg\n",
      "E:\\J_tarp\\Frames\\frame_651.jpg\n",
      "E:\\J_tarp\\Frames\\frame_710.jpg\n",
      "E:\\J_tarp\\Frames\\frame_756.jpg\n",
      "E:\\J_tarp\\Frames\\frame_818.jpg\n",
      "E:\\J_tarp\\Frames\\frame_1139.jpg\n",
      "E:\\J_tarp\\Frames\\frame_1207.jpg\n",
      "E:\\J_tarp\\Frames\\frame_1243.jpg\n",
      "E:\\J_tarp\\Frames\\frame_1273.jpg\n",
      "E:\\J_tarp\\Frames\\frame_1499.jpg\n",
      "E:\\J_tarp\\Frames\\frame_1733.jpg\n"
     ]
    }
   ],
   "source": [
    "for i in img_names :\n",
    "    image_path = \"E:\\J_tarp\\Frames\\\\\"+ i \n",
    "    #image = load_image(image_path)\n",
    "    print(image_path)\n",
    "    #text = text + model.simple_gen(image, temperature=0.0)"
   ]
  },
  {
   "cell_type": "code",
   "execution_count": null,
   "id": "3d7cc76d",
   "metadata": {},
   "outputs": [],
   "source": []
  },
  {
   "cell_type": "code",
   "execution_count": 3,
   "id": "13d70065",
   "metadata": {},
   "outputs": [],
   "source": [
    "text = '''a person is walking down a snowy mountain. a large white truck is walking through the snow. a man in a blue shirt is standing in front of a building. a man in a white shirt is holding a baby. a man in a blue shirt is holding a microphone. a young girl in a dress is standing in front of a large building. a man in a black shirt is standing in front of a building. a man in a blue shirt is standing in front of a large crowd. a man in a black jacket is walking down a street. a man in a white shirt and a white hat is standing in front of a building. a man in a green shirt is standing in front of a large crowd. a man and a woman are sitting on a table. a woman is standing in front of a large display of a store. a woman in a dress is standing in front of a large building. a woman in a pink dress is standing in front of a large room. a man in a black shirt is standing in front of a white building. a young boy is holding a baby. a man in a white shirt is standing in front of a crowd. a man in a red shirt is holding a microphone. a man in a black shirt is standing in front of a large crowd. '''"
   ]
  },
  {
   "cell_type": "code",
   "execution_count": 4,
   "id": "4cc0e3c4",
   "metadata": {},
   "outputs": [],
   "source": [
    "from summarizer import Summarizer"
   ]
  },
  {
   "cell_type": "code",
   "execution_count": 5,
   "id": "98d12279",
   "metadata": {},
   "outputs": [
    {
     "name": "stderr",
     "output_type": "stream",
     "text": [
      "Some weights of the model checkpoint at bert-large-uncased were not used when initializing BertModel: ['cls.predictions.transform.LayerNorm.weight', 'cls.seq_relationship.weight', 'cls.predictions.transform.dense.weight', 'cls.predictions.transform.dense.bias', 'cls.predictions.transform.LayerNorm.bias', 'cls.seq_relationship.bias', 'cls.predictions.bias', 'cls.predictions.decoder.weight']\n",
      "- This IS expected if you are initializing BertModel from the checkpoint of a model trained on another task or with another architecture (e.g. initializing a BertForSequenceClassification model from a BertForPreTraining model).\n",
      "- This IS NOT expected if you are initializing BertModel from the checkpoint of a model that you expect to be exactly identical (initializing a BertForSequenceClassification model from a BertForSequenceClassification model).\n"
     ]
    },
    {
     "name": "stdout",
     "output_type": "stream",
     "text": [
      "a young girl in a dress is standing in front of a large building. a man in a black shirt is standing in front of a large crowd.\n"
     ]
    }
   ],
   "source": [
    "bert_model = Summarizer()\n",
    "bert_summary = ''.join(bert_model(text, min_length=60))\n",
    "print(bert_summary)"
   ]
  },
  {
   "cell_type": "code",
   "execution_count": null,
   "id": "208b7279",
   "metadata": {},
   "outputs": [],
   "source": []
  },
  {
   "cell_type": "code",
   "execution_count": null,
   "id": "cdecb611",
   "metadata": {},
   "outputs": [],
   "source": []
  }
 ],
 "metadata": {
  "kernelspec": {
   "display_name": "Python 3 (ipykernel)",
   "language": "python",
   "name": "python3"
  },
  "language_info": {
   "codemirror_mode": {
    "name": "ipython",
    "version": 3
   },
   "file_extension": ".py",
   "mimetype": "text/x-python",
   "name": "python",
   "nbconvert_exporter": "python",
   "pygments_lexer": "ipython3",
   "version": "3.8.5"
  }
 },
 "nbformat": 4,
 "nbformat_minor": 5
}
